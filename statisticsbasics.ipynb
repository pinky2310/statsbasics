{
  "nbformat": 4,
  "nbformat_minor": 0,
  "metadata": {
    "colab": {
      "provenance": []
    },
    "kernelspec": {
      "name": "python3",
      "display_name": "Python 3"
    },
    "language_info": {
      "name": "python"
    }
  },
  "cells": [
    {
      "cell_type": "markdown",
      "source": [
        "#**STATISTICS BASICS ASSIGNMENT**"
      ],
      "metadata": {
        "id": "fyvc9k1_qsHI"
      }
    },
    {
      "cell_type": "markdown",
      "source": [
        "**1.Explain the different types of data (qualitative and quantitative) and provide examples of each. Discuss nominal, ordinal, interval, and ratio scales.**\n",
        "- ## **Types of Data in Statistics**\n",
        "\n",
        "### **1. Qualitative (Categorical) Data**\n",
        "Qualitative data represents categories or labels that describe characteristics but do not have numerical meaning. This type of data is often non-numeric, though it can sometimes be assigned numerical codes for analysis.\n",
        "\n",
        "#### **Examples:**\n",
        "- **Gender:** Male, Female, Other\n",
        "- **Blood Type:** A, B, AB, O\n",
        "- **Eye Color:** Brown, Blue, Green\n",
        "- **Marital Status:** Single, Married, Divorced\n",
        "\n",
        "#### **Types of Qualitative Data:**\n",
        "1. **Nominal Scale:**  \n",
        "   - Data is categorized without a specific order.\n",
        "   - Example: Eye color (Brown, Blue, Green), Blood Type (A, B, AB, O)\n",
        "   \n",
        "2. **Ordinal Scale:**  \n",
        "   - Data is categorized with a meaningful order, but differences between categories are not measurable.\n",
        "   - Example: Satisfaction levels (Low, Medium, High), Education level (Primary, Secondary, Graduate)\n",
        "\n",
        "\n",
        "\n",
        " **2. Quantitative (Numerical) Data**\n",
        "Quantitative data represents measurable quantities and can be analyzed using mathematical operations.\n",
        "\n",
        "**Examples:**\n",
        "- **Height (in cm):** 160 cm, 175 cm\n",
        "- **Temperature (in °C):** 25°C, 30°C\n",
        "- **Weight (in kg):** 55 kg, 70 kg\n",
        "- **Test Scores:** 85, 90, 95\n",
        "\n",
        " **Types of Quantitative Data:**\n",
        "1. **Interval Scale:**  \n",
        "   - Data has a meaningful order, and the differences between values are measurable, but there is no true zero.  \n",
        "   - Example: Temperature in Celsius or Fahrenheit (0°C doesn’t mean \"no temperature\"), IQ scores.\n",
        "\n",
        "2. **Ratio Scale:**  \n",
        "   - Data has a meaningful order, measurable differences, and a true zero, allowing for meaningful ratios.  \n",
        "   - Example: Height, Weight, Age, Income (₹0 means no income).  \n",
        "\n"
      ],
      "metadata": {
        "id": "VDITiSSErScU"
      }
    },
    {
      "cell_type": "markdown",
      "source": [
        "**2.What are the measures of central tendency, and when should you use each? Discuss the mean, median, and mode with examples and situations where each is appropriate. **\n",
        "-  **Measures of Central Tendency**  \n",
        "\n",
        "**1. Mean (Average)**  \n",
        "The mean is the sum of all values in a dataset divided by the total number of values. It provides a useful overall measure but can be distorted by extreme values.  \n",
        "\n",
        "**Example:**  \n",
        "In a company, the monthly salaries of five employees are **₹30,000, ₹35,000, ₹40,000, ₹45,000, and ₹10,00,000**. The mean salary is much higher than most employees’ actual earnings because of the one extremely high salary.  \n",
        "\n",
        "**Best for:** Normally distributed numerical data, such as average test scores or daily temperatures.  \n",
        "**Avoid when:** Data contains extreme values, as it may not accurately represent the majority.  \n",
        "\n",
        " **2. Median (Middle Value)**  \n",
        "The median is the middle value in an ordered dataset. It is useful when data has outliers because it is not influenced by extreme values.  \n",
        "\n",
        "**Example:**  \n",
        "In the same company, the sorted salaries are **₹30,000, ₹35,000, ₹40,000, ₹45,000, ₹10,00,000**. The median salary is **₹40,000**, which better represents what most employees earn compared to the mean.  \n",
        "\n",
        "**Best for:** Skewed distributions, such as income, property prices, or waiting times.  \n",
        "**Avoid when:** Data is symmetrically distributed, where the mean is a better measure.  \n",
        "\n",
        " **3. Mode (Most Frequent Value)**  \n",
        "The mode is the most frequently occurring value in a dataset. It is useful for identifying common categories or repeated values.  \n",
        "\n",
        "**Example:**  \n",
        "A shoe store records shoe sizes sold in a day: **7, 8, 8, 9, 10, 10, 10, 11**. The mode is **10**, as it appears most often, indicating the most popular shoe size.  \n",
        "\n",
        "**Best for:** Categorical data like customer preferences, voting results, or frequently purchased items.  \n",
        "**Avoid when:** Data has no repeated values or multiple frequent values without a clear pattern.  \n",
        "\n"
      ],
      "metadata": {
        "id": "XNqVHfnVts3C"
      }
    },
    {
      "cell_type": "markdown",
      "source": [
        "**3.Explain the concept of dispersion. How do variance and standard deviation measure the spread of data?**\n",
        "- **Concept of Dispersion:**\n",
        "Dispersion refers to the spread or variability of data points in a dataset. It helps measure how much individual values differ from the central tendency (mean, median, or mode). A high dispersion indicates that values are widely spread, while low dispersion means they are closely clustered.\n",
        "\n",
        "**Variance and Standard Deviation:**\n",
        "- Variance; measures the average squared deviation from the mean, showing how spread out the data is. A higher variance means more variability.\n",
        "\n",
        "- Standard Deviation; the square root of variance and provides a measure of dispersion in the same unit as the original data, making it easier to interpret.\n",
        "\n",
        "Example:\n",
        "Consider test scores of students: 60, 62, 85, 90, 95\n",
        "\n",
        "- A high standard deviation means scores vary widely.\n",
        "\n",
        "- A low standard deviation means scores are close to the mean.\n",
        "\n"
      ],
      "metadata": {
        "id": "4Z4uZmDKuqIB"
      }
    },
    {
      "cell_type": "markdown",
      "source": [
        "**4.What is a box plot, and what can it tell you about the distribution of data?**\n",
        "-  Box Plot and Data Distribution:\n",
        "A box plot (box-and-whisker plot) visually represents the distribution of data, highlighting key statistics such as:\n",
        "\n",
        "- Minimum: The smallest value (excluding outliers).\n",
        "\n",
        "- First Quartile (Q1): The 25th percentile, where 25% of data falls below.\n",
        "\n",
        "- Median (Q2): The 50th percentile (middle value).\n",
        "\n",
        "- Third Quartile (Q3): The 75th percentile, where 75% of data falls below.\n",
        "\n",
        "- Maximum: The largest value (excluding outliers).\n",
        "\n",
        "- Outliers: Data points that lie far from the rest.\n",
        "\n",
        "\n",
        "\n",
        "    - If the median is centered: The data is symmetrically distributed.\n",
        "\n",
        "    - If the median is closer to Q1 or Q3: The data is skewed.\n",
        "\n",
        "    - If the whiskers are unequal: Indicates variability in data spread.\n",
        "\n",
        "Example:\n",
        "A box plot of house prices may show a long upper whisker, indicating a few expensive properties pushing the prices up.\n",
        "\n"
      ],
      "metadata": {
        "id": "rT6v1BxLvkT8"
      }
    },
    {
      "cell_type": "markdown",
      "source": [
        " **5. Discuss the role of random sampling in making inferences about populations.**\n",
        "- Role of Random Sampling in Population Inference:\n",
        "Random sampling is a technique where individuals are selected from a population randomly, ensuring that every member has an equal chance of being chosen. This helps in making unbiased inferences about the whole population.\n",
        "\n",
        "Importance:\n",
        "- Reduces Bias: Ensures that sample data represents the population fairly.\n",
        "\n",
        "- Improves Accuracy: Larger random samples provide better approximations of population characteristics.\n",
        "\n",
        "- Allows Generalization: Findings from a sample can be extended to the whole population with statistical confidence.\n",
        "\n",
        "Example:\n",
        "A pharmaceutical company testing a new drug selects random patients from different age groups and backgrounds to ensure fair results."
      ],
      "metadata": {
        "id": "laYUL2K2wlfq"
      }
    },
    {
      "cell_type": "markdown",
      "source": [
        "**6.Explain the concept of skewness and its types. How does skewness affect the interpretation of data?**\n",
        "- Skewness is a statistical measure that describes the asymmetry of a probability distribution. It indicates whether the data points are concentrated on one side of the mean. There are three types of skewness:\n",
        "\n",
        "- Positive Skewness (Right Skewed): The tail on the right side of the distribution is longer or fatter than the left side. The mean is greater than the median.\n",
        "- Negative Skewness (Left Skewed): The tail on the left side is longer or fatter than the right side. The mean is less than the median.\n",
        "- Zero Skewness (Symmetrical): The distribution is perfectly symmetrical, and the mean and median are equal.\n",
        "\n",
        "Skewness affects data interpretation by influencing the mean and median values, which can lead to different conclusions about the central tendency and spread of the data."
      ],
      "metadata": {
        "id": "Hjeuc2QrxE48"
      }
    },
    {
      "cell_type": "markdown",
      "source": [
        "**7.What is the interquartile range (IQR), and how is it used to detect outliers?**\n",
        "- The interquartile range (IQR) is a measure of statistical dispersion and is calculated as the difference between the third quartile (Q3) and the first quartile (Q1) of a dataset (IQR = Q3 - Q1). It represents the range within which the central 50% of the data lies.\n",
        "\n",
        "To detect outliers using the IQR, the following steps are taken:\n",
        "\n",
        " 1) Calculate Q1 and Q3.\n",
        "\n",
        "2) Compute the IQR.\n",
        "\n",
        "3) Determine the lower bound as Q1 - 1.5 * IQR and the upper bound as Q3 + 1.5 * IQR.\n",
        "\n",
        "4) Any data points outside these bounds are considered outliers."
      ],
      "metadata": {
        "id": "O_p75It1Pb4b"
      }
    },
    {
      "cell_type": "markdown",
      "source": [
        "**8.Discuss the conditions under which the binomial distribution is used.**\n",
        "- The binomial distribution is used under the following conditions:\n",
        "\n",
        "1) Fixed Number of Trials (n): The experiment is conducted a specific number of times.\n",
        "\n",
        "2) Two Possible Outcomes: Each trial results in one of two outcomes, often termed \"success\" and \"failure.\"\n",
        "\n",
        "3) Constant Probability (p): The probability of success remains the same for each trial.\n",
        "\n",
        "4) Independent Trials: The outcome of one trial does not affect the outcome of another.\n"
      ],
      "metadata": {
        "id": "VADEQUibQB02"
      }
    },
    {
      "cell_type": "markdown",
      "source": [
        "**9. Explain the properties of the normal distribution and the empirical rule (68-95-99.7 rule).**\n",
        "- The normal distribution is a continuous probability distribution characterized by the following properties:\n",
        "\n",
        "1) Symmetrical: The distribution is symmetric around the mean.\n",
        "\n",
        "2) Bell-Shaped Curve: The graph of the distribution forms a bell shape.\n",
        "\n",
        "3) Mean, Median, Mode: All three measures of central tendency are equal and located at the center of the distribution.\n",
        "\n",
        "4) Asymptotic: The tails of the distribution approach the horizontal axis but never touch it.\n",
        "\n",
        "The empirical rule (68-95-99.7 rule) states that for a normal distribution:\n",
        "\n",
        " - Approximately 68% of the data falls within one standard deviation (σ) of the mean (μ).\n",
        " - About 95% falls within two standard deviations.\n",
        " - About 99.7% falls within three standard deviations."
      ],
      "metadata": {
        "id": "kEdB1Gt5QB3A"
      }
    },
    {
      "cell_type": "markdown",
      "source": [
        "**10. Provide a Real-Life Example of a Poisson Process and Calculate the Probability for a Specific Event**\n",
        "  - Real-Life Example:\n",
        "\n",
        "Suppose a call center receives an average of 3 calls per minute ((\\lambda = 3)). What is the probability of receiving exactly 5 calls in a minute?\n",
        "\n",
        " - Poisson Formula:\n",
        "\n",
        "The probability of (k) events occurring in a fixed interval is: [ P(X = k) = \\frac{e^{-\\lambda} \\lambda^k}{k!} ]\n",
        "\n",
        " - Calculation:\n",
        "\n",
        "For (\\lambda = 3) and (k = 5): [ P(X = 5) = \\frac{e^{-3} \\cdot 3^5}{5!} \\approx 0.1008 ]"
      ],
      "metadata": {
        "id": "DyyOd1Yk_RCq"
      }
    },
    {
      "cell_type": "markdown",
      "source": [
        "**11. Explain what a random variable is and differentiate between discrete and continuous random variables.**\n",
        " - A random variable is a variable that takes on numerical values determined by the outcome of a random experiment.\n",
        "\n",
        "Types of Random Variables:\n",
        "\n",
        "- Discrete Random Variable:\n",
        "\n",
        "Takes on countable values (e.g., 0, 1, 2, ...).\n",
        "Example: Number of heads in 10 coin flips.\n",
        "\n",
        "- Continuous Random Variable:\n",
        "\n",
        "Takes on any value within a range or interval.\n",
        "Example: The height of students in a class"
      ],
      "metadata": {
        "id": "aq1f5iGn_qjD"
      }
    },
    {
      "cell_type": "markdown",
      "source": [
        "**12. Provide an Example Dataset, Calculate Both Covariance and Correlation, and Interpret the Results**\n",
        "  - Example Dataset:\n",
        "\n",
        "X= 2,4,6,8,10\n",
        "\n",
        "y=3,7,9,13,15\n",
        "\n",
        "- Calculations in Python:\n",
        "\n",
        "\n",
        "\n",
        "```\n",
        " import numpy as np\n",
        "import pandas as pd\n",
        " Example data\n",
        "data = pd.DataFrame({\n",
        "    'X': [2, 4, 6, 8, 10],\n",
        "    'Y': [3, 7, 9, 13, 15]\n",
        "})\n",
        "\n",
        " Covariance\n",
        "covariance = np.cov(data['X'], data['Y'])[0, 1]\n",
        "\n",
        " Correlation\n",
        "correlation = np.corrcoef(data['X'], data['Y'])[0, 1]\n",
        "\n",
        "print(f\"Covariance: {covariance}\")\n",
        "print(f\"Correlation: {correlation}\")\n",
        "\n",
        "```\n",
        "\n"
      ],
      "metadata": {
        "id": "0SSveUy3AO7h"
      }
    },
    {
      "cell_type": "code",
      "source": [],
      "metadata": {
        "id": "HY5a4I7sBR7g"
      },
      "execution_count": null,
      "outputs": []
    }
  ]
}